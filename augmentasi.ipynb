{
 "cells": [
  {
   "cell_type": "code",
   "execution_count": 13,
   "id": "5c52734b",
   "metadata": {},
   "outputs": [],
   "source": [
    "import Augmentor\n",
    "import os\n",
    "import glob\n",
    "\n",
    "def perbanyak_(ini, sebanyak_ini):\n",
    "  source_dir = ini\n",
    "  output_dir = \".\"\n",
    "  p = Augmentor.Pipeline(source_directory=source_dir, output_directory=output_dir)\n",
    "  p.random_distortion(probability=1, grid_width=4, grid_height=4, magnitude=1)\n",
    "  p.rotate(probability=0.7, max_left_rotation=13, max_right_rotation=13)\n",
    "  p.zoom_random(probability=0.5, percentage_area=0.9)\n",
    "  p.crop_random(probability=0.6, percentage_area=0.9)\n",
    "  p.resize(probability=1.0, width=128, height=128)\n",
    "\n",
    "  p.sample(sebanyak_ini)"
   ]
  },
  {
   "cell_type": "code",
   "execution_count": 10,
   "id": "40668565",
   "metadata": {},
   "outputs": [],
   "source": [
    "daftar_folder = glob.glob('FIX/*')"
   ]
  },
  {
   "cell_type": "code",
   "execution_count": 11,
   "id": "5624ff25",
   "metadata": {},
   "outputs": [
    {
     "name": "stdout",
     "output_type": "stream",
     "text": [
      "[]\n"
     ]
    }
   ],
   "source": [
    "print(daftar_folder)"
   ]
  },
  {
   "cell_type": "code",
   "execution_count": 12,
   "id": "ca4ca738",
   "metadata": {},
   "outputs": [
    {
     "name": "stdout",
     "output_type": "stream",
     "text": [
      " Volume in drive D is New Volume\n",
      " Volume Serial Number is 4437-4A48\n",
      "\n",
      " Directory of D:\\FIX\n",
      "\n",
      "13/09/2022  15:29    <DIR>          .\n",
      "13/09/2022  15:29    <DIR>          ..\n",
      "13/09/2022  15:23    <DIR>          .ipynb_checkpoints\n",
      "13/09/2022  15:21    <DIR>          bukan_daun\n",
      "13/09/2022  15:21    <DIR>          daun_bercak\n",
      "13/09/2022  15:21    <DIR>          daun_berlubang\n",
      "13/09/2022  15:21    <DIR>          daun_busuk\n",
      "13/09/2022  15:21    <DIR>          daun_sehat\n",
      "13/09/2022  15:29             1.835 Untitled.ipynb\n",
      "               1 File(s)          1.835 bytes\n",
      "               8 Dir(s)  617.880.018.944 bytes free\n"
     ]
    }
   ],
   "source": [
    "!dir"
   ]
  },
  {
   "cell_type": "code",
   "execution_count": 14,
   "id": "3f5f7b0b",
   "metadata": {},
   "outputs": [
    {
     "name": "stdout",
     "output_type": "stream",
     "text": [
      "Initialised with 120 image(s) found.\n",
      "Output directory set to bukan_daun/.."
     ]
    },
    {
     "name": "stderr",
     "output_type": "stream",
     "text": [
      "Processing <PIL.Image.Image image mode=RGB size=128x128 at 0x1DB5D50A220>: 100%|█| 1200/1200 [00:02<00:00, 587.82 Sampl\n"
     ]
    }
   ],
   "source": [
    "perbanyak_(\"bukan_daun/\", 1200)"
   ]
  },
  {
   "cell_type": "code",
   "execution_count": 17,
   "id": "aefeafc5",
   "metadata": {},
   "outputs": [
    {
     "name": "stdout",
     "output_type": "stream",
     "text": [
      "Initialised with 123 image(s) found.\n",
      "Output directory set to daun_bercak/.."
     ]
    },
    {
     "name": "stderr",
     "output_type": "stream",
     "text": [
      "Processing <PIL.Image.Image image mode=RGB size=128x128 at 0x1DB5D222910>: 100%|█| 1200/1200 [00:02<00:00, 594.33 Sampl\n"
     ]
    }
   ],
   "source": [
    "perbanyak_(\"daun_bercak/\", 1200)"
   ]
  },
  {
   "cell_type": "code",
   "execution_count": 18,
   "id": "2e1e9f5a",
   "metadata": {},
   "outputs": [
    {
     "name": "stdout",
     "output_type": "stream",
     "text": [
      "Initialised with 138 image(s) found.\n",
      "Output directory set to daun_berlubang/.."
     ]
    },
    {
     "name": "stderr",
     "output_type": "stream",
     "text": [
      "Processing <PIL.Image.Image image mode=RGB size=128x128 at 0x1DB5D445940>: 100%|█| 1200/1200 [00:01<00:00, 624.07 Sampl\n"
     ]
    }
   ],
   "source": [
    "perbanyak_(\"daun_berlubang/\", 1200)"
   ]
  },
  {
   "cell_type": "code",
   "execution_count": 19,
   "id": "1a871638",
   "metadata": {},
   "outputs": [
    {
     "name": "stdout",
     "output_type": "stream",
     "text": [
      "Initialised with 154 image(s) found.\n",
      "Output directory set to daun_busuk/.."
     ]
    },
    {
     "name": "stderr",
     "output_type": "stream",
     "text": [
      "Processing <PIL.Image.Image image mode=RGB size=128x128 at 0x1DB5D2340A0>: 100%|█| 1200/1200 [00:01<00:00, 607.49 Sampl\n"
     ]
    }
   ],
   "source": [
    "perbanyak_(\"daun_busuk/\", 1200)"
   ]
  },
  {
   "cell_type": "code",
   "execution_count": 20,
   "id": "3fc2f8f8",
   "metadata": {},
   "outputs": [
    {
     "name": "stdout",
     "output_type": "stream",
     "text": [
      "Initialised with 180 image(s) found.\n",
      "Output directory set to daun_sehat/.."
     ]
    },
    {
     "name": "stderr",
     "output_type": "stream",
     "text": [
      "Processing <PIL.Image.Image image mode=RGB size=128x128 at 0x1DB5D476BE0>: 100%|█| 1200/1200 [00:01<00:00, 623.92 Sampl\n"
     ]
    }
   ],
   "source": [
    "perbanyak_(\"daun_sehat/\", 1200)"
   ]
  },
  {
   "cell_type": "code",
   "execution_count": 21,
   "id": "81a8061f",
   "metadata": {},
   "outputs": [
    {
     "name": "stderr",
     "output_type": "stream",
     "text": [
      "Copying files: 6000 files [00:16, 353.60 files/s]\n"
     ]
    }
   ],
   "source": [
    "import splitfolders\n",
    "\n",
    "# Split with a ratio.\n",
    "# To only split into training and validation set, set a tuple to `ratio`, i.e, `(.8, .2)`.\n",
    "splitfolders.ratio(\"dataset/\", output=\"dataset_out\",\n",
    "    seed=1337, ratio=(.8, .1, .1), group_prefix=None, move=False) # default values"
   ]
  },
  {
   "cell_type": "code",
   "execution_count": null,
   "id": "91223163",
   "metadata": {},
   "outputs": [],
   "source": []
  }
 ],
 "metadata": {
  "kernelspec": {
   "display_name": "Python 3 (ipykernel)",
   "language": "python",
   "name": "python3"
  },
  "language_info": {
   "codemirror_mode": {
    "name": "ipython",
    "version": 3
   },
   "file_extension": ".py",
   "mimetype": "text/x-python",
   "name": "python",
   "nbconvert_exporter": "python",
   "pygments_lexer": "ipython3",
   "version": "3.9.12"
  }
 },
 "nbformat": 4,
 "nbformat_minor": 5
}
